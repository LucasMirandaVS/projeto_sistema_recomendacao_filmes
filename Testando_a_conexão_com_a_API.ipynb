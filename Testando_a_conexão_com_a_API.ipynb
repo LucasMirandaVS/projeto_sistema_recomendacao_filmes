{
  "nbformat": 4,
  "nbformat_minor": 0,
  "metadata": {
    "colab": {
      "name": "Testando a conexão com a API.ipynb",
      "provenance": [],
      "authorship_tag": "ABX9TyOZJRWGo8nj7szQPe8tbASG",
      "include_colab_link": true
    },
    "kernelspec": {
      "name": "python3",
      "display_name": "Python 3"
    },
    "language_info": {
      "name": "python"
    }
  },
  "cells": [
    {
      "cell_type": "markdown",
      "metadata": {
        "id": "view-in-github",
        "colab_type": "text"
      },
      "source": [
        "<a href=\"https://colab.research.google.com/github/LucasMirandaVS/projeto_sistema_recomendacao_filmes/blob/main/Testando_a_conex%C3%A3o_com_a_API.ipynb\" target=\"_parent\"><img src=\"https://colab.research.google.com/assets/colab-badge.svg\" alt=\"Open In Colab\"/></a>"
      ]
    },
    {
      "cell_type": "code",
      "execution_count": 1,
      "metadata": {
        "colab": {
          "base_uri": "https://localhost:8080/"
        },
        "id": "YY9uIowmnr7V",
        "outputId": "3dbdaff0-b21d-4ead-c92f-05023d177dc2"
      },
      "outputs": [
        {
          "output_type": "stream",
          "name": "stdout",
          "text": [
            "Looking in indexes: https://pypi.org/simple, https://us-python.pkg.dev/colab-wheels/public/simple/\n",
            "Collecting tmdbv3api\n",
            "  Downloading tmdbv3api-1.7.7-py2.py3-none-any.whl (18 kB)\n",
            "Requirement already satisfied: requests in /usr/local/lib/python3.7/dist-packages (from tmdbv3api) (2.23.0)\n",
            "Requirement already satisfied: idna<3,>=2.5 in /usr/local/lib/python3.7/dist-packages (from requests->tmdbv3api) (2.10)\n",
            "Requirement already satisfied: chardet<4,>=3.0.2 in /usr/local/lib/python3.7/dist-packages (from requests->tmdbv3api) (3.0.4)\n",
            "Requirement already satisfied: urllib3!=1.25.0,!=1.25.1,<1.26,>=1.21.1 in /usr/local/lib/python3.7/dist-packages (from requests->tmdbv3api) (1.24.3)\n",
            "Requirement already satisfied: certifi>=2017.4.17 in /usr/local/lib/python3.7/dist-packages (from requests->tmdbv3api) (2022.6.15)\n",
            "Installing collected packages: tmdbv3api\n",
            "Successfully installed tmdbv3api-1.7.7\n"
          ]
        }
      ],
      "source": [
        "!pip install tmdbv3api"
      ]
    },
    {
      "cell_type": "code",
      "source": [
        "import requests\n",
        "import json\n",
        "from tmdbv3api import Movie, TMDb"
      ],
      "metadata": {
        "id": "Wc8ybEFdnyhq"
      },
      "execution_count": 2,
      "outputs": []
    },
    {
      "cell_type": "code",
      "source": [
        "# Criando o objeto c o meu token\n",
        "tmdb = TMDb()\n",
        "tmdb.api_key = \"1355331d9510a8dcffa3b7afac0a3336\"\n",
        "TMDB_Movie = Movie()"
      ],
      "metadata": {
        "id": "ER7y91j5n2Zn"
      },
      "execution_count": 3,
      "outputs": []
    },
    {
      "cell_type": "code",
      "source": [
        "# Testando com apenas um filme\n",
        "url1 = \"https://api.themoviedb.org/3/movie/299534?api_key=%s&language=pt-BR\" % (tmdb.api_key )\n",
        "response = requests.get(url1)\n",
        "print(response.status_code)"
      ],
      "metadata": {
        "colab": {
          "base_uri": "https://localhost:8080/"
        },
        "id": "spMU6ohkn9d8",
        "outputId": "1ff6f007-54e8-42aa-a2b2-4f4848dd49b3"
      },
      "execution_count": 4,
      "outputs": [
        {
          "output_type": "stream",
          "name": "stdout",
          "text": [
            "200\n"
          ]
        }
      ]
    },
    {
      "cell_type": "markdown",
      "source": [
        "Recebeu a resposta positiva, agora vou extrair o json"
      ],
      "metadata": {
        "id": "0uxao9c_oEsd"
      }
    },
    {
      "cell_type": "code",
      "source": [
        "dict_values = json.loads(response.text)\n",
        "json_ob = json.dumps(dict_values, indent = 4)\n",
        "print(json_ob)"
      ],
      "metadata": {
        "colab": {
          "base_uri": "https://localhost:8080/"
        },
        "id": "i_VpvpjzoJq5",
        "outputId": "e21b311c-88b8-4acb-fb72-d3c333484a5c"
      },
      "execution_count": 5,
      "outputs": [
        {
          "output_type": "stream",
          "name": "stdout",
          "text": [
            "{\n",
            "    \"adult\": false,\n",
            "    \"backdrop_path\": \"/7RyHsO4yDXtBv1zUU3mTpHeQ0d5.jpg\",\n",
            "    \"belongs_to_collection\": {\n",
            "        \"id\": 86311,\n",
            "        \"name\": \"Os Vingadores: Cole\\u00e7\\u00e3o\",\n",
            "        \"poster_path\": \"/afKUZSOVZRajahOyjDzINaqa6YD.jpg\",\n",
            "        \"backdrop_path\": \"/zuW6fOiusv4X9nnW3paHGfXcSll.jpg\"\n",
            "    },\n",
            "    \"budget\": 356000000,\n",
            "    \"genres\": [\n",
            "        {\n",
            "            \"id\": 12,\n",
            "            \"name\": \"Aventura\"\n",
            "        },\n",
            "        {\n",
            "            \"id\": 878,\n",
            "            \"name\": \"Fic\\u00e7\\u00e3o cient\\u00edfica\"\n",
            "        },\n",
            "        {\n",
            "            \"id\": 28,\n",
            "            \"name\": \"A\\u00e7\\u00e3o\"\n",
            "        }\n",
            "    ],\n",
            "    \"homepage\": \"https://www.marvel.com/movies/avengers-endgame\",\n",
            "    \"id\": 299534,\n",
            "    \"imdb_id\": \"tt4154796\",\n",
            "    \"original_language\": \"en\",\n",
            "    \"original_title\": \"Avengers: Endgame\",\n",
            "    \"overview\": \"Ap\\u00f3s os eventos devastadores de \\\"Vingadores: Guerra Infinita\\\", o universo est\\u00e1 em ru\\u00ednas devido aos esfor\\u00e7os do Tit\\u00e3 Louco, Thanos. Com a ajuda de aliados remanescentes, os Vingadores devem se reunir mais uma vez a fim de desfazer as a\\u00e7\\u00f5es de Thanos e restaurar a ordem no universo de uma vez por todas, n\\u00e3o importando as consequ\\u00eancias.\",\n",
            "    \"popularity\": 254.232,\n",
            "    \"poster_path\": \"/q6725aR8Zs4IwGMXzZT8aC8lh41.jpg\",\n",
            "    \"production_companies\": [\n",
            "        {\n",
            "            \"id\": 420,\n",
            "            \"logo_path\": \"/hUzeosd33nzE5MCNsZxCGEKTXaQ.png\",\n",
            "            \"name\": \"Marvel Studios\",\n",
            "            \"origin_country\": \"US\"\n",
            "        }\n",
            "    ],\n",
            "    \"production_countries\": [\n",
            "        {\n",
            "            \"iso_3166_1\": \"US\",\n",
            "            \"name\": \"United States of America\"\n",
            "        }\n",
            "    ],\n",
            "    \"release_date\": \"2019-04-24\",\n",
            "    \"revenue\": 2797800564,\n",
            "    \"runtime\": 181,\n",
            "    \"spoken_languages\": [\n",
            "        {\n",
            "            \"english_name\": \"English\",\n",
            "            \"iso_639_1\": \"en\",\n",
            "            \"name\": \"English\"\n",
            "        },\n",
            "        {\n",
            "            \"english_name\": \"Japanese\",\n",
            "            \"iso_639_1\": \"ja\",\n",
            "            \"name\": \"\\u65e5\\u672c\\u8a9e\"\n",
            "        },\n",
            "        {\n",
            "            \"english_name\": \"Xhosa\",\n",
            "            \"iso_639_1\": \"xh\",\n",
            "            \"name\": \"\"\n",
            "        }\n",
            "    ],\n",
            "    \"status\": \"Released\",\n",
            "    \"tagline\": \"O fim de uma era!\",\n",
            "    \"title\": \"Vingadores: Ultimato\",\n",
            "    \"video\": false,\n",
            "    \"vote_average\": 8.3,\n",
            "    \"vote_count\": 21427\n",
            "}\n"
          ]
        }
      ]
    },
    {
      "cell_type": "markdown",
      "source": [
        "Tudo nos conformes."
      ],
      "metadata": {
        "id": "g7KfymwZoMy-"
      }
    }
  ]
}